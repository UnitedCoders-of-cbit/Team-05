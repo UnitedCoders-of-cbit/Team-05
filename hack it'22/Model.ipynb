{
 "cells": [
  {
   "cell_type": "code",
   "execution_count": 3,
   "id": "9c048872",
   "metadata": {},
   "outputs": [],
   "source": [
    "import pandas as pd\n",
    "import numpy as np\n",
    "import matplotlib.pyplot as plt\n",
    "import seaborn as sns\n",
    "import tensorflow as tf"
   ]
  },
  {
   "cell_type": "code",
   "execution_count": 4,
   "id": "273f78f9",
   "metadata": {},
   "outputs": [
    {
     "data": {
      "text/plain": [
       "'2.9.0'"
      ]
     },
     "execution_count": 4,
     "metadata": {},
     "output_type": "execute_result"
    }
   ],
   "source": [
    "tf.__version__"
   ]
  },
  {
   "cell_type": "code",
   "execution_count": 5,
   "id": "e2804987",
   "metadata": {},
   "outputs": [
    {
     "name": "stderr",
     "output_type": "stream",
     "text": [
      "C:\\Users\\NIVAS\\AppData\\Local\\Temp\\ipykernel_25940\\237924754.py:1: DtypeWarning: Columns (9) have mixed types. Specify dtype option on import or set low_memory=False.\n",
      "  df=pd.read_csv('final_dataset.csv')\n"
     ]
    },
    {
     "data": {
      "text/html": [
       "<div>\n",
       "<style scoped>\n",
       "    .dataframe tbody tr th:only-of-type {\n",
       "        vertical-align: middle;\n",
       "    }\n",
       "\n",
       "    .dataframe tbody tr th {\n",
       "        vertical-align: top;\n",
       "    }\n",
       "\n",
       "    .dataframe thead th {\n",
       "        text-align: right;\n",
       "    }\n",
       "</style>\n",
       "<table border=\"1\" class=\"dataframe\">\n",
       "  <thead>\n",
       "    <tr style=\"text-align: right;\">\n",
       "      <th></th>\n",
       "      <th>Unnamed: 0</th>\n",
       "      <th>name</th>\n",
       "      <th>category_list</th>\n",
       "      <th>funding_total_usd</th>\n",
       "      <th>status</th>\n",
       "      <th>country_code</th>\n",
       "      <th>funding_rounds</th>\n",
       "      <th>founded_at</th>\n",
       "      <th>first_funding_at</th>\n",
       "      <th>last_funding_at</th>\n",
       "      <th>investment_type</th>\n",
       "      <th>Unique</th>\n",
       "      <th>P/S</th>\n",
       "      <th>Successful</th>\n",
       "    </tr>\n",
       "  </thead>\n",
       "  <tbody>\n",
       "    <tr>\n",
       "      <th>0</th>\n",
       "      <td>0</td>\n",
       "      <td>#fame</td>\n",
       "      <td>Media</td>\n",
       "      <td>10000000.0</td>\n",
       "      <td>operating</td>\n",
       "      <td>IND</td>\n",
       "      <td>1</td>\n",
       "      <td>2014</td>\n",
       "      <td>2015</td>\n",
       "      <td>2015</td>\n",
       "      <td>Debt Funding</td>\n",
       "      <td>1</td>\n",
       "      <td>0</td>\n",
       "      <td>No</td>\n",
       "    </tr>\n",
       "    <tr>\n",
       "      <th>1</th>\n",
       "      <td>1</td>\n",
       "      <td>:Qounter</td>\n",
       "      <td>Application Platforms</td>\n",
       "      <td>700000.0</td>\n",
       "      <td>operating</td>\n",
       "      <td>USA</td>\n",
       "      <td>2</td>\n",
       "      <td>2014</td>\n",
       "      <td>2014</td>\n",
       "      <td>2014</td>\n",
       "      <td>Private Equity</td>\n",
       "      <td>1</td>\n",
       "      <td>1</td>\n",
       "      <td>Yes</td>\n",
       "    </tr>\n",
       "    <tr>\n",
       "      <th>2</th>\n",
       "      <td>2</td>\n",
       "      <td>(THE) ONE of THEM,Inc.</td>\n",
       "      <td>Apps</td>\n",
       "      <td>3406878.0</td>\n",
       "      <td>operating</td>\n",
       "      <td>USA</td>\n",
       "      <td>1</td>\n",
       "      <td>2014</td>\n",
       "      <td>2014</td>\n",
       "      <td>2014</td>\n",
       "      <td>Seed Funding</td>\n",
       "      <td>0</td>\n",
       "      <td>1</td>\n",
       "      <td>No</td>\n",
       "    </tr>\n",
       "    <tr>\n",
       "      <th>3</th>\n",
       "      <td>3</td>\n",
       "      <td>0-6.com</td>\n",
       "      <td>Curated Web</td>\n",
       "      <td>2000000.0</td>\n",
       "      <td>operating</td>\n",
       "      <td>CHN</td>\n",
       "      <td>1</td>\n",
       "      <td>2007</td>\n",
       "      <td>2008</td>\n",
       "      <td>2008</td>\n",
       "      <td>Debt Funding</td>\n",
       "      <td>0</td>\n",
       "      <td>0</td>\n",
       "      <td>Yes</td>\n",
       "    </tr>\n",
       "    <tr>\n",
       "      <th>4</th>\n",
       "      <td>4</td>\n",
       "      <td>004 Technologies</td>\n",
       "      <td>Software</td>\n",
       "      <td>0.0</td>\n",
       "      <td>operating</td>\n",
       "      <td>USA</td>\n",
       "      <td>1</td>\n",
       "      <td>2010</td>\n",
       "      <td>2014</td>\n",
       "      <td>2014</td>\n",
       "      <td>Debt Funding</td>\n",
       "      <td>0</td>\n",
       "      <td>1</td>\n",
       "      <td>No</td>\n",
       "    </tr>\n",
       "  </tbody>\n",
       "</table>\n",
       "</div>"
      ],
      "text/plain": [
       "   Unnamed: 0                    name          category_list  \\\n",
       "0           0                   #fame                  Media   \n",
       "1           1                :Qounter  Application Platforms   \n",
       "2           2  (THE) ONE of THEM,Inc.                   Apps   \n",
       "3           3                 0-6.com            Curated Web   \n",
       "4           4        004 Technologies               Software   \n",
       "\n",
       "   funding_total_usd     status country_code  funding_rounds founded_at  \\\n",
       "0         10000000.0  operating          IND               1       2014   \n",
       "1           700000.0  operating          USA               2       2014   \n",
       "2          3406878.0  operating          USA               1       2014   \n",
       "3          2000000.0  operating          CHN               1       2007   \n",
       "4                0.0  operating          USA               1       2010   \n",
       "\n",
       "  first_funding_at last_funding_at investment_type  Unique  P/S Successful  \n",
       "0             2015            2015    Debt Funding       1    0         No  \n",
       "1             2014            2014  Private Equity       1    1        Yes  \n",
       "2             2014            2014    Seed Funding       0    1         No  \n",
       "3             2008            2008    Debt Funding       0    0        Yes  \n",
       "4             2014            2014    Debt Funding       0    1         No  "
      ]
     },
     "execution_count": 5,
     "metadata": {},
     "output_type": "execute_result"
    }
   ],
   "source": [
    "df=pd.read_csv('final_dataset.csv')\n",
    "df.head()"
   ]
  },
  {
   "cell_type": "code",
   "execution_count": 6,
   "id": "c21362be",
   "metadata": {},
   "outputs": [],
   "source": [
    "df.drop(['Unnamed: 0'],axis=1,inplace=True)"
   ]
  },
  {
   "cell_type": "code",
   "execution_count": 7,
   "id": "5d5a20a8",
   "metadata": {},
   "outputs": [
    {
     "data": {
      "text/plain": [
       "name                    2\n",
       "category_list        3106\n",
       "funding_total_usd       0\n",
       "status                  0\n",
       "country_code            0\n",
       "funding_rounds          0\n",
       "founded_at              0\n",
       "first_funding_at        0\n",
       "last_funding_at         0\n",
       "investment_type         0\n",
       "Unique                  0\n",
       "P/S                     0\n",
       "Successful              0\n",
       "dtype: int64"
      ]
     },
     "execution_count": 7,
     "metadata": {},
     "output_type": "execute_result"
    }
   ],
   "source": [
    "df.isnull().sum()"
   ]
  },
  {
   "cell_type": "code",
   "execution_count": 8,
   "id": "732c49b7",
   "metadata": {},
   "outputs": [],
   "source": [
    "import random\n",
    "categ_list=['Biotechnology','Software','E-Commerce','Advertising','Curated Web']\n",
    "df['category_list']=df['category_list'].fillna(random.choice(categ_list))"
   ]
  },
  {
   "cell_type": "code",
   "execution_count": 9,
   "id": "4a31b01f",
   "metadata": {},
   "outputs": [
    {
     "data": {
      "text/plain": [
       "name                 2\n",
       "category_list        0\n",
       "funding_total_usd    0\n",
       "status               0\n",
       "country_code         0\n",
       "funding_rounds       0\n",
       "founded_at           0\n",
       "first_funding_at     0\n",
       "last_funding_at      0\n",
       "investment_type      0\n",
       "Unique               0\n",
       "P/S                  0\n",
       "Successful           0\n",
       "dtype: int64"
      ]
     },
     "execution_count": 9,
     "metadata": {},
     "output_type": "execute_result"
    }
   ],
   "source": [
    "df.isnull().sum()"
   ]
  },
  {
   "cell_type": "code",
   "execution_count": 10,
   "id": "9ba93b9b",
   "metadata": {},
   "outputs": [
    {
     "data": {
      "text/plain": [
       "745"
      ]
     },
     "execution_count": 10,
     "metadata": {},
     "output_type": "execute_result"
    }
   ],
   "source": [
    "df['category_list'].nunique()"
   ]
  },
  {
   "cell_type": "code",
   "execution_count": 11,
   "id": "480cc220",
   "metadata": {},
   "outputs": [
    {
     "data": {
      "text/plain": [
       "Curated Web           5342\n",
       "Biotechnology         4511\n",
       "Software              4298\n",
       "E-Commerce            2807\n",
       "Advertising           2426\n",
       "                      ... \n",
       "Direct Advertising       1\n",
       "Self Development         1\n",
       "Social Television        1\n",
       "Swimming                 1\n",
       "Social Media Agent       1\n",
       "Name: category_list, Length: 745, dtype: int64"
      ]
     },
     "execution_count": 11,
     "metadata": {},
     "output_type": "execute_result"
    }
   ],
   "source": [
    "df['category_list'].value_counts()"
   ]
  },
  {
   "cell_type": "code",
   "execution_count": 12,
   "id": "3ca0b4ad",
   "metadata": {},
   "outputs": [
    {
     "data": {
      "text/plain": [
       "Others                    17430\n",
       "Curated Web                5342\n",
       "Biotechnology              4511\n",
       "Software                   4298\n",
       "E-Commerce                 2807\n",
       "Advertising                2426\n",
       "Mobile                     1843\n",
       "Analytics                  1652\n",
       "Apps                       1497\n",
       "Health Care                1457\n",
       "Clean Technology           1426\n",
       "Enterprise Software        1405\n",
       "Games                      1310\n",
       "Health and Wellness        1241\n",
       "Finance                    1147\n",
       "Hardware + Software        1133\n",
       "Education                  1086\n",
       "Manufacturing               896\n",
       "Consulting                  732\n",
       "Internet                    655\n",
       "Cloud Computing             609\n",
       "Entertainment               584\n",
       "Android                     552\n",
       "Semiconductors              543\n",
       "Social Media                519\n",
       "Hospitality                 511\n",
       "Real Estate                 492\n",
       "Security                    485\n",
       "Fashion                     477\n",
       "Automotive                  475\n",
       "Big Data                    424\n",
       "Business Services           408\n",
       "Information Technology      383\n",
       "Design                      380\n",
       "Web Hosting                 369\n",
       "Consumer Electronics        333\n",
       "Medical                     325\n",
       "B2B                         323\n",
       "Financial Services          317\n",
       "Consumer Goods              312\n",
       "Collaboration               307\n",
       "EdTech                      304\n",
       "Technology                  297\n",
       "Messaging                   284\n",
       "Content                     279\n",
       "News                        267\n",
       "Music                       266\n",
       "Digital Media               258\n",
       "Travel                      256\n",
       "Big Data Analytics          245\n",
       "Media                       240\n",
       "Application Platforms       230\n",
       "Networking                  230\n",
       "Brand Marketing             215\n",
       "Fitness                     214\n",
       "Computers                   209\n",
       "Energy                      203\n",
       "Services                    202\n",
       "Sports                      200\n",
       "Name: category_list, dtype: int64"
      ]
     },
     "execution_count": 12,
     "metadata": {},
     "output_type": "execute_result"
    }
   ],
   "source": [
    "vc = df['category_list'].value_counts()\n",
    "l1=vc[vc < 200].index.tolist()\n",
    "for i in df['category_list']:\n",
    "    if i in l1:\n",
    "        df['category_list']=df['category_list'].replace(i,'Others')\n",
    "        \n",
    "df['category_list'].value_counts()"
   ]
  },
  {
   "cell_type": "code",
   "execution_count": 13,
   "id": "86c4013d",
   "metadata": {},
   "outputs": [
    {
     "data": {
      "text/plain": [
       "4"
      ]
     },
     "execution_count": 13,
     "metadata": {},
     "output_type": "execute_result"
    }
   ],
   "source": [
    "df['status'].nunique()"
   ]
  },
  {
   "cell_type": "code",
   "execution_count": 14,
   "id": "ad3b1083",
   "metadata": {},
   "outputs": [
    {
     "data": {
      "text/plain": [
       "137"
      ]
     },
     "execution_count": 14,
     "metadata": {},
     "output_type": "execute_result"
    }
   ],
   "source": [
    "df['country_code'].nunique()"
   ]
  },
  {
   "cell_type": "code",
   "execution_count": 15,
   "id": "a72203c4",
   "metadata": {},
   "outputs": [
    {
     "data": {
      "text/plain": [
       "USA    45543\n",
       "GBR     3749\n",
       "CAN     1968\n",
       "IND     1630\n",
       "CHN     1570\n",
       "       ...  \n",
       "BRN        1\n",
       "BRB        1\n",
       "IRN        1\n",
       "MNE        1\n",
       "MAF        1\n",
       "Name: country_code, Length: 137, dtype: int64"
      ]
     },
     "execution_count": 15,
     "metadata": {},
     "output_type": "execute_result"
    }
   ],
   "source": [
    "df['country_code'].value_counts()"
   ]
  },
  {
   "cell_type": "code",
   "execution_count": 16,
   "id": "ee229fa8",
   "metadata": {},
   "outputs": [
    {
     "data": {
      "text/plain": [
       "USA       45543\n",
       "Others     8305\n",
       "GBR        3749\n",
       "CAN        1968\n",
       "IND        1630\n",
       "CHN        1570\n",
       "FRA        1156\n",
       "DEU        1125\n",
       "ISR         994\n",
       "ESP         765\n",
       "AUS         510\n",
       "NLD         506\n",
       "Name: country_code, dtype: int64"
      ]
     },
     "execution_count": 16,
     "metadata": {},
     "output_type": "execute_result"
    }
   ],
   "source": [
    "vc = df['country_code'].value_counts()\n",
    "l1=vc[vc < 500].index.tolist()\n",
    "for i in df['country_code']:\n",
    "    if i in l1:\n",
    "        df['country_code']=df['country_code'].replace(i,'Others')\n",
    "        \n",
    "df['country_code'].value_counts()"
   ]
  },
  {
   "cell_type": "code",
   "execution_count": 17,
   "id": "45e076bf",
   "metadata": {},
   "outputs": [
    {
     "data": {
      "text/plain": [
       "4"
      ]
     },
     "execution_count": 17,
     "metadata": {},
     "output_type": "execute_result"
    }
   ],
   "source": [
    "df['investment_type'].nunique()"
   ]
  },
  {
   "cell_type": "code",
   "execution_count": 18,
   "id": "7edd3c07",
   "metadata": {},
   "outputs": [
    {
     "data": {
      "text/plain": [
       "2"
      ]
     },
     "execution_count": 18,
     "metadata": {},
     "output_type": "execute_result"
    }
   ],
   "source": [
    "df['Successful'].nunique()"
   ]
  },
  {
   "cell_type": "code",
   "execution_count": 19,
   "id": "19b650a7",
   "metadata": {},
   "outputs": [],
   "source": [
    "catglist=['status','category_list','country_code','investment_type','Successful']\n",
    "from sklearn.preprocessing import LabelEncoder\n",
    "le = LabelEncoder()\n",
    "for feat in catglist:\n",
    "    df[feat]=le.fit_transform(df[feat])"
   ]
  },
  {
   "cell_type": "code",
   "execution_count": 20,
   "id": "47e1cfdf",
   "metadata": {},
   "outputs": [
    {
     "data": {
      "text/html": [
       "<div>\n",
       "<style scoped>\n",
       "    .dataframe tbody tr th:only-of-type {\n",
       "        vertical-align: middle;\n",
       "    }\n",
       "\n",
       "    .dataframe tbody tr th {\n",
       "        vertical-align: top;\n",
       "    }\n",
       "\n",
       "    .dataframe thead th {\n",
       "        text-align: right;\n",
       "    }\n",
       "</style>\n",
       "<table border=\"1\" class=\"dataframe\">\n",
       "  <thead>\n",
       "    <tr style=\"text-align: right;\">\n",
       "      <th></th>\n",
       "      <th>name</th>\n",
       "      <th>category_list</th>\n",
       "      <th>funding_total_usd</th>\n",
       "      <th>status</th>\n",
       "      <th>country_code</th>\n",
       "      <th>funding_rounds</th>\n",
       "      <th>founded_at</th>\n",
       "      <th>first_funding_at</th>\n",
       "      <th>last_funding_at</th>\n",
       "      <th>investment_type</th>\n",
       "      <th>Unique</th>\n",
       "      <th>P/S</th>\n",
       "      <th>Successful</th>\n",
       "    </tr>\n",
       "  </thead>\n",
       "  <tbody>\n",
       "    <tr>\n",
       "      <th>0</th>\n",
       "      <td>#fame</td>\n",
       "      <td>41</td>\n",
       "      <td>10000000.0</td>\n",
       "      <td>3</td>\n",
       "      <td>7</td>\n",
       "      <td>1</td>\n",
       "      <td>2014</td>\n",
       "      <td>2015</td>\n",
       "      <td>2015</td>\n",
       "      <td>1</td>\n",
       "      <td>1</td>\n",
       "      <td>0</td>\n",
       "      <td>0</td>\n",
       "    </tr>\n",
       "    <tr>\n",
       "      <th>1</th>\n",
       "      <td>:Qounter</td>\n",
       "      <td>3</td>\n",
       "      <td>700000.0</td>\n",
       "      <td>3</td>\n",
       "      <td>11</td>\n",
       "      <td>2</td>\n",
       "      <td>2014</td>\n",
       "      <td>2014</td>\n",
       "      <td>2014</td>\n",
       "      <td>2</td>\n",
       "      <td>1</td>\n",
       "      <td>1</td>\n",
       "      <td>1</td>\n",
       "    </tr>\n",
       "    <tr>\n",
       "      <th>2</th>\n",
       "      <td>(THE) ONE of THEM,Inc.</td>\n",
       "      <td>4</td>\n",
       "      <td>3406878.0</td>\n",
       "      <td>3</td>\n",
       "      <td>11</td>\n",
       "      <td>1</td>\n",
       "      <td>2014</td>\n",
       "      <td>2014</td>\n",
       "      <td>2014</td>\n",
       "      <td>3</td>\n",
       "      <td>0</td>\n",
       "      <td>1</td>\n",
       "      <td>0</td>\n",
       "    </tr>\n",
       "    <tr>\n",
       "      <th>3</th>\n",
       "      <td>0-6.com</td>\n",
       "      <td>20</td>\n",
       "      <td>2000000.0</td>\n",
       "      <td>3</td>\n",
       "      <td>2</td>\n",
       "      <td>1</td>\n",
       "      <td>2007</td>\n",
       "      <td>2008</td>\n",
       "      <td>2008</td>\n",
       "      <td>1</td>\n",
       "      <td>0</td>\n",
       "      <td>0</td>\n",
       "      <td>1</td>\n",
       "    </tr>\n",
       "    <tr>\n",
       "      <th>4</th>\n",
       "      <td>004 Technologies</td>\n",
       "      <td>54</td>\n",
       "      <td>0.0</td>\n",
       "      <td>3</td>\n",
       "      <td>11</td>\n",
       "      <td>1</td>\n",
       "      <td>2010</td>\n",
       "      <td>2014</td>\n",
       "      <td>2014</td>\n",
       "      <td>1</td>\n",
       "      <td>0</td>\n",
       "      <td>1</td>\n",
       "      <td>0</td>\n",
       "    </tr>\n",
       "  </tbody>\n",
       "</table>\n",
       "</div>"
      ],
      "text/plain": [
       "                     name  category_list  funding_total_usd  status  \\\n",
       "0                   #fame             41         10000000.0       3   \n",
       "1                :Qounter              3           700000.0       3   \n",
       "2  (THE) ONE of THEM,Inc.              4          3406878.0       3   \n",
       "3                 0-6.com             20          2000000.0       3   \n",
       "4        004 Technologies             54                0.0       3   \n",
       "\n",
       "   country_code  funding_rounds founded_at first_funding_at last_funding_at  \\\n",
       "0             7               1       2014             2015            2015   \n",
       "1            11               2       2014             2014            2014   \n",
       "2            11               1       2014             2014            2014   \n",
       "3             2               1       2007             2008            2008   \n",
       "4            11               1       2010             2014            2014   \n",
       "\n",
       "   investment_type  Unique  P/S  Successful  \n",
       "0                1       1    0           0  \n",
       "1                2       1    1           1  \n",
       "2                3       0    1           0  \n",
       "3                1       0    0           1  \n",
       "4                1       0    1           0  "
      ]
     },
     "execution_count": 20,
     "metadata": {},
     "output_type": "execute_result"
    }
   ],
   "source": [
    "df.head()"
   ]
  },
  {
   "cell_type": "code",
   "execution_count": 21,
   "id": "60aec354",
   "metadata": {},
   "outputs": [
    {
     "name": "stdout",
     "output_type": "stream",
     "text": [
      "<class 'pandas.core.frame.DataFrame'>\n",
      "RangeIndex: 67821 entries, 0 to 67820\n",
      "Data columns (total 13 columns):\n",
      " #   Column             Non-Null Count  Dtype  \n",
      "---  ------             --------------  -----  \n",
      " 0   name               67819 non-null  object \n",
      " 1   category_list      67821 non-null  int32  \n",
      " 2   funding_total_usd  67821 non-null  float64\n",
      " 3   status             67821 non-null  int32  \n",
      " 4   country_code       67821 non-null  int32  \n",
      " 5   funding_rounds     67821 non-null  int64  \n",
      " 6   founded_at         67821 non-null  object \n",
      " 7   first_funding_at   67821 non-null  object \n",
      " 8   last_funding_at    67821 non-null  object \n",
      " 9   investment_type    67821 non-null  int32  \n",
      " 10  Unique             67821 non-null  int64  \n",
      " 11  P/S                67821 non-null  int64  \n",
      " 12  Successful         67821 non-null  int32  \n",
      "dtypes: float64(1), int32(5), int64(3), object(4)\n",
      "memory usage: 5.4+ MB\n"
     ]
    }
   ],
   "source": [
    "df.info()"
   ]
  },
  {
   "cell_type": "code",
   "execution_count": 22,
   "id": "8a04d21d",
   "metadata": {},
   "outputs": [],
   "source": [
    "year=[]\n",
    "from datetime import datetime\n",
    "for i in df['founded_at']:\n",
    "    i=str(i).replace('-','0')\n",
    "    i='2'+i[1:]\n",
    "    i=datetime.strptime(i, '%Y')\n",
    "    year.append(i.year)\n",
    "    \n",
    "df['founded_at']=year"
   ]
  },
  {
   "cell_type": "code",
   "execution_count": 23,
   "id": "086ee6e9",
   "metadata": {},
   "outputs": [],
   "source": [
    "year=[]\n",
    "from datetime import datetime\n",
    "for i in df['first_funding_at']:\n",
    "    i=str(i).replace('-','0')\n",
    "    i='2'+i[1:]\n",
    "    i=datetime.strptime(i, '%Y')\n",
    "    year.append(i.year)\n",
    "    \n",
    "df['first_funding_at']=year"
   ]
  },
  {
   "cell_type": "code",
   "execution_count": 24,
   "id": "b6d6ca70",
   "metadata": {},
   "outputs": [],
   "source": [
    "year=[]\n",
    "from datetime import datetime\n",
    "for i in df['last_funding_at']:\n",
    "    i=str(i).replace('-','0')\n",
    "    i='2'+i[1:]\n",
    "    i=datetime.strptime(i, '%Y')\n",
    "    year.append(i.year)\n",
    "    \n",
    "df['last_funding_at']=year"
   ]
  },
  {
   "cell_type": "code",
   "execution_count": 25,
   "id": "9c467d27",
   "metadata": {},
   "outputs": [
    {
     "name": "stdout",
     "output_type": "stream",
     "text": [
      "<class 'pandas.core.frame.DataFrame'>\n",
      "RangeIndex: 67821 entries, 0 to 67820\n",
      "Data columns (total 13 columns):\n",
      " #   Column             Non-Null Count  Dtype  \n",
      "---  ------             --------------  -----  \n",
      " 0   name               67819 non-null  object \n",
      " 1   category_list      67821 non-null  int32  \n",
      " 2   funding_total_usd  67821 non-null  float64\n",
      " 3   status             67821 non-null  int32  \n",
      " 4   country_code       67821 non-null  int32  \n",
      " 5   funding_rounds     67821 non-null  int64  \n",
      " 6   founded_at         67821 non-null  int64  \n",
      " 7   first_funding_at   67821 non-null  int64  \n",
      " 8   last_funding_at    67821 non-null  int64  \n",
      " 9   investment_type    67821 non-null  int32  \n",
      " 10  Unique             67821 non-null  int64  \n",
      " 11  P/S                67821 non-null  int64  \n",
      " 12  Successful         67821 non-null  int32  \n",
      "dtypes: float64(1), int32(5), int64(6), object(1)\n",
      "memory usage: 5.4+ MB\n"
     ]
    }
   ],
   "source": [
    "df.info()"
   ]
  },
  {
   "cell_type": "code",
   "execution_count": 26,
   "id": "04a47bfb",
   "metadata": {},
   "outputs": [],
   "source": [
    "X=df.iloc[:,1:-1].values\n",
    "y=df.iloc[:,-1].values"
   ]
  },
  {
   "cell_type": "code",
   "execution_count": 27,
   "id": "f2159da5",
   "metadata": {},
   "outputs": [],
   "source": [
    "from sklearn.model_selection import train_test_split\n",
    "X_train, X_test, y_train, y_test = train_test_split(X, y, test_size = 0.2, random_state = 0)"
   ]
  },
  {
   "cell_type": "code",
   "execution_count": 28,
   "id": "8c3387ff",
   "metadata": {},
   "outputs": [],
   "source": [
    "from sklearn.preprocessing import StandardScaler\n",
    "sc = StandardScaler()\n",
    "X_train = sc.fit_transform(X_train)\n",
    "X_test = sc.transform(X_test)"
   ]
  },
  {
   "cell_type": "code",
   "execution_count": 29,
   "id": "cf67c47c",
   "metadata": {},
   "outputs": [],
   "source": [
    "ann = tf.keras.models.Sequential()"
   ]
  },
  {
   "cell_type": "code",
   "execution_count": 30,
   "id": "4b3a17ce",
   "metadata": {},
   "outputs": [],
   "source": [
    "ann.add(tf.keras.layers.Dense(units=32, activation='relu'))"
   ]
  },
  {
   "cell_type": "code",
   "execution_count": 31,
   "id": "bb4a0db8",
   "metadata": {},
   "outputs": [],
   "source": [
    "ann.add(tf.keras.layers.Dense(units=128, activation='relu'))"
   ]
  },
  {
   "cell_type": "code",
   "execution_count": 32,
   "id": "51dbff6b",
   "metadata": {},
   "outputs": [],
   "source": [
    "ann.add(tf.keras.layers.Dense(units=1, activation='sigmoid'))"
   ]
  },
  {
   "cell_type": "code",
   "execution_count": 33,
   "id": "79882a8d",
   "metadata": {},
   "outputs": [],
   "source": [
    "ann.compile(optimizer = 'adam', loss = 'binary_crossentropy', metrics = ['accuracy'])"
   ]
  },
  {
   "cell_type": "code",
   "execution_count": 34,
   "id": "7f861374",
   "metadata": {},
   "outputs": [
    {
     "name": "stdout",
     "output_type": "stream",
     "text": [
      "Epoch 1/100\n",
      "3391/3391 [==============================] - 5s 1ms/step - loss: 0.6124 - accuracy: 0.7032\n",
      "Epoch 2/100\n",
      "3391/3391 [==============================] - 4s 1ms/step - loss: 0.6093 - accuracy: 0.7036\n",
      "Epoch 3/100\n",
      "3391/3391 [==============================] - 4s 1ms/step - loss: 0.6085 - accuracy: 0.7037\n",
      "Epoch 4/100\n",
      "3391/3391 [==============================] - 5s 1ms/step - loss: 0.6082 - accuracy: 0.7038\n",
      "Epoch 5/100\n",
      "3391/3391 [==============================] - 5s 1ms/step - loss: 0.6082 - accuracy: 0.7037\n",
      "Epoch 6/100\n",
      "3391/3391 [==============================] - 6s 2ms/step - loss: 0.6078 - accuracy: 0.7037\n",
      "Epoch 7/100\n",
      "3391/3391 [==============================] - 5s 1ms/step - loss: 0.6079 - accuracy: 0.7037\n",
      "Epoch 8/100\n",
      "3391/3391 [==============================] - 5s 2ms/step - loss: 0.6076 - accuracy: 0.7037\n",
      "Epoch 9/100\n",
      "3391/3391 [==============================] - 5s 1ms/step - loss: 0.6075 - accuracy: 0.7037\n",
      "Epoch 10/100\n",
      "3391/3391 [==============================] - 5s 1ms/step - loss: 0.6073 - accuracy: 0.7038\n",
      "Epoch 11/100\n",
      "3391/3391 [==============================] - 5s 1ms/step - loss: 0.6071 - accuracy: 0.7038\n",
      "Epoch 12/100\n",
      "3391/3391 [==============================] - 5s 1ms/step - loss: 0.6071 - accuracy: 0.7037\n",
      "Epoch 13/100\n",
      "3391/3391 [==============================] - 5s 1ms/step - loss: 0.6068 - accuracy: 0.7037\n",
      "Epoch 14/100\n",
      "3391/3391 [==============================] - 5s 2ms/step - loss: 0.6068 - accuracy: 0.7037\n",
      "Epoch 15/100\n",
      "3391/3391 [==============================] - 5s 1ms/step - loss: 0.6066 - accuracy: 0.7038\n",
      "Epoch 16/100\n",
      "3391/3391 [==============================] - 5s 1ms/step - loss: 0.6064 - accuracy: 0.7039\n",
      "Epoch 17/100\n",
      "3391/3391 [==============================] - 5s 1ms/step - loss: 0.6063 - accuracy: 0.7037\n",
      "Epoch 18/100\n",
      "3391/3391 [==============================] - 5s 1ms/step - loss: 0.6063 - accuracy: 0.7038\n",
      "Epoch 19/100\n",
      "3391/3391 [==============================] - 4s 1ms/step - loss: 0.6059 - accuracy: 0.7039\n",
      "Epoch 20/100\n",
      "3391/3391 [==============================] - 5s 1ms/step - loss: 0.6057 - accuracy: 0.7039\n",
      "Epoch 21/100\n",
      "3391/3391 [==============================] - 5s 1ms/step - loss: 0.6055 - accuracy: 0.7038\n",
      "Epoch 22/100\n",
      "3391/3391 [==============================] - 5s 1ms/step - loss: 0.6054 - accuracy: 0.7040\n",
      "Epoch 23/100\n",
      "3391/3391 [==============================] - 5s 1ms/step - loss: 0.6049 - accuracy: 0.7039\n",
      "Epoch 24/100\n",
      "3391/3391 [==============================] - 5s 1ms/step - loss: 0.6049 - accuracy: 0.7041\n",
      "Epoch 25/100\n",
      "3391/3391 [==============================] - 5s 1ms/step - loss: 0.6048 - accuracy: 0.7043\n",
      "Epoch 26/100\n",
      "3391/3391 [==============================] - 5s 1ms/step - loss: 0.6044 - accuracy: 0.7040\n",
      "Epoch 27/100\n",
      "3391/3391 [==============================] - 5s 1ms/step - loss: 0.6043 - accuracy: 0.7044\n",
      "Epoch 28/100\n",
      "3391/3391 [==============================] - 5s 2ms/step - loss: 0.6041 - accuracy: 0.7041\n",
      "Epoch 29/100\n",
      "3391/3391 [==============================] - 5s 2ms/step - loss: 0.6041 - accuracy: 0.7045\n",
      "Epoch 30/100\n",
      "3391/3391 [==============================] - 5s 2ms/step - loss: 0.6038 - accuracy: 0.7044\n",
      "Epoch 31/100\n",
      "3391/3391 [==============================] - 5s 1ms/step - loss: 0.6038 - accuracy: 0.7043\n",
      "Epoch 32/100\n",
      "3391/3391 [==============================] - 5s 1ms/step - loss: 0.6031 - accuracy: 0.7043\n",
      "Epoch 33/100\n",
      "3391/3391 [==============================] - 5s 2ms/step - loss: 0.6033 - accuracy: 0.7041\n",
      "Epoch 34/100\n",
      "3391/3391 [==============================] - 5s 1ms/step - loss: 0.6032 - accuracy: 0.7043\n",
      "Epoch 35/100\n",
      "3391/3391 [==============================] - 5s 2ms/step - loss: 0.6029 - accuracy: 0.7046\n",
      "Epoch 36/100\n",
      "3391/3391 [==============================] - 5s 1ms/step - loss: 0.6026 - accuracy: 0.7046\n",
      "Epoch 37/100\n",
      "3391/3391 [==============================] - 5s 2ms/step - loss: 0.6024 - accuracy: 0.7046\n",
      "Epoch 38/100\n",
      "3391/3391 [==============================] - 5s 2ms/step - loss: 0.6022 - accuracy: 0.7046\n",
      "Epoch 39/100\n",
      "3391/3391 [==============================] - 5s 1ms/step - loss: 0.6020 - accuracy: 0.7047\n",
      "Epoch 40/100\n",
      "3391/3391 [==============================] - 5s 2ms/step - loss: 0.6017 - accuracy: 0.7051\n",
      "Epoch 41/100\n",
      "3391/3391 [==============================] - 5s 1ms/step - loss: 0.6018 - accuracy: 0.7052\n",
      "Epoch 42/100\n",
      "3391/3391 [==============================] - 5s 1ms/step - loss: 0.6015 - accuracy: 0.7049\n",
      "Epoch 43/100\n",
      "3391/3391 [==============================] - 5s 1ms/step - loss: 0.6014 - accuracy: 0.7052\n",
      "Epoch 44/100\n",
      "3391/3391 [==============================] - 5s 1ms/step - loss: 0.6010 - accuracy: 0.7053\n",
      "Epoch 45/100\n",
      "3391/3391 [==============================] - 5s 1ms/step - loss: 0.6012 - accuracy: 0.7052\n",
      "Epoch 46/100\n",
      "3391/3391 [==============================] - 5s 1ms/step - loss: 0.6007 - accuracy: 0.7058\n",
      "Epoch 47/100\n",
      "3391/3391 [==============================] - 5s 2ms/step - loss: 0.6008 - accuracy: 0.7053\n",
      "Epoch 48/100\n",
      "3391/3391 [==============================] - 7s 2ms/step - loss: 0.6006 - accuracy: 0.7050\n",
      "Epoch 49/100\n",
      "3391/3391 [==============================] - 7s 2ms/step - loss: 0.6007 - accuracy: 0.7054\n",
      "Epoch 50/100\n",
      "3391/3391 [==============================] - 6s 2ms/step - loss: 0.6001 - accuracy: 0.7056\n",
      "Epoch 51/100\n",
      "3391/3391 [==============================] - 6s 2ms/step - loss: 0.6000 - accuracy: 0.7059\n",
      "Epoch 52/100\n",
      "3391/3391 [==============================] - 5s 2ms/step - loss: 0.5997 - accuracy: 0.7061\n",
      "Epoch 53/100\n",
      "3391/3391 [==============================] - 5s 2ms/step - loss: 0.5995 - accuracy: 0.7058\n",
      "Epoch 54/100\n",
      "3391/3391 [==============================] - 6s 2ms/step - loss: 0.5996 - accuracy: 0.7058\n",
      "Epoch 55/100\n",
      "3391/3391 [==============================] - 5s 1ms/step - loss: 0.5993 - accuracy: 0.7059\n",
      "Epoch 56/100\n",
      "3391/3391 [==============================] - 5s 1ms/step - loss: 0.5989 - accuracy: 0.7056\n",
      "Epoch 57/100\n",
      "3391/3391 [==============================] - 5s 1ms/step - loss: 0.5990 - accuracy: 0.7058\n",
      "Epoch 58/100\n",
      "3391/3391 [==============================] - 15s 4ms/step - loss: 0.5987 - accuracy: 0.7060\n",
      "Epoch 59/100\n",
      "3391/3391 [==============================] - 15s 4ms/step - loss: 0.5986 - accuracy: 0.7063\n",
      "Epoch 60/100\n",
      "3391/3391 [==============================] - 10s 3ms/step - loss: 0.5987 - accuracy: 0.7062\n",
      "Epoch 61/100\n",
      "3391/3391 [==============================] - 11s 3ms/step - loss: 0.5978 - accuracy: 0.7058\n",
      "Epoch 62/100\n",
      "3391/3391 [==============================] - 16s 5ms/step - loss: 0.5987 - accuracy: 0.7063\n",
      "Epoch 63/100\n",
      "3391/3391 [==============================] - 16s 5ms/step - loss: 0.5977 - accuracy: 0.7058\n",
      "Epoch 64/100\n",
      "3391/3391 [==============================] - 16s 5ms/step - loss: 0.5980 - accuracy: 0.7060\n",
      "Epoch 65/100\n",
      "3391/3391 [==============================] - 16s 5ms/step - loss: 0.5980 - accuracy: 0.7059\n",
      "Epoch 66/100\n",
      "3391/3391 [==============================] - 16s 5ms/step - loss: 0.5976 - accuracy: 0.7066\n",
      "Epoch 67/100\n",
      "3391/3391 [==============================] - 16s 5ms/step - loss: 0.5973 - accuracy: 0.7064\n",
      "Epoch 68/100\n",
      "3391/3391 [==============================] - 16s 5ms/step - loss: 0.5974 - accuracy: 0.7061\n",
      "Epoch 69/100\n",
      "3391/3391 [==============================] - 16s 5ms/step - loss: 0.5969 - accuracy: 0.7065\n",
      "Epoch 70/100\n",
      "3391/3391 [==============================] - 10s 3ms/step - loss: 0.5974 - accuracy: 0.7062\n",
      "Epoch 71/100\n",
      "3391/3391 [==============================] - 10s 3ms/step - loss: 0.5967 - accuracy: 0.7066\n",
      "Epoch 72/100\n",
      "3391/3391 [==============================] - 9s 3ms/step - loss: 0.5968 - accuracy: 0.7064\n",
      "Epoch 73/100\n",
      "3391/3391 [==============================] - 9s 3ms/step - loss: 0.5967 - accuracy: 0.7065\n",
      "Epoch 74/100\n",
      "3391/3391 [==============================] - 10s 3ms/step - loss: 0.5963 - accuracy: 0.7067\n",
      "Epoch 75/100\n",
      "3391/3391 [==============================] - 9s 3ms/step - loss: 0.5967 - accuracy: 0.7063\n",
      "Epoch 76/100\n",
      "3391/3391 [==============================] - 10s 3ms/step - loss: 0.5962 - accuracy: 0.7064\n",
      "Epoch 77/100\n",
      "3391/3391 [==============================] - 15s 4ms/step - loss: 0.5963 - accuracy: 0.7066\n",
      "Epoch 78/100\n",
      "3391/3391 [==============================] - 14s 4ms/step - loss: 0.5957 - accuracy: 0.7069\n",
      "Epoch 79/100\n"
     ]
    },
    {
     "name": "stdout",
     "output_type": "stream",
     "text": [
      "3391/3391 [==============================] - 12s 4ms/step - loss: 0.5957 - accuracy: 0.7066\n",
      "Epoch 80/100\n",
      "3391/3391 [==============================] - 10s 3ms/step - loss: 0.5957 - accuracy: 0.7069\n",
      "Epoch 81/100\n",
      "3391/3391 [==============================] - 10s 3ms/step - loss: 0.5958 - accuracy: 0.7068\n",
      "Epoch 82/100\n",
      "3391/3391 [==============================] - 9s 3ms/step - loss: 0.5955 - accuracy: 0.7069\n",
      "Epoch 83/100\n",
      "3391/3391 [==============================] - 10s 3ms/step - loss: 0.5953 - accuracy: 0.7073\n",
      "Epoch 84/100\n",
      "3391/3391 [==============================] - 10s 3ms/step - loss: 0.5956 - accuracy: 0.7072\n",
      "Epoch 85/100\n",
      "3391/3391 [==============================] - 10s 3ms/step - loss: 0.5952 - accuracy: 0.7067\n",
      "Epoch 86/100\n",
      "3391/3391 [==============================] - 10s 3ms/step - loss: 0.5953 - accuracy: 0.7070\n",
      "Epoch 87/100\n",
      "3391/3391 [==============================] - 9s 3ms/step - loss: 0.5951 - accuracy: 0.7073\n",
      "Epoch 88/100\n",
      "3391/3391 [==============================] - 10s 3ms/step - loss: 0.5953 - accuracy: 0.7071\n",
      "Epoch 89/100\n",
      "3391/3391 [==============================] - 10s 3ms/step - loss: 0.5949 - accuracy: 0.7074\n",
      "Epoch 90/100\n",
      "3391/3391 [==============================] - 10s 3ms/step - loss: 0.5949 - accuracy: 0.7068\n",
      "Epoch 91/100\n",
      "3391/3391 [==============================] - 10s 3ms/step - loss: 0.5942 - accuracy: 0.7074\n",
      "Epoch 92/100\n",
      "3391/3391 [==============================] - 9s 3ms/step - loss: 0.5945 - accuracy: 0.7074\n",
      "Epoch 93/100\n",
      "3391/3391 [==============================] - 8s 3ms/step - loss: 0.5946 - accuracy: 0.7074\n",
      "Epoch 94/100\n",
      "3391/3391 [==============================] - 11s 3ms/step - loss: 0.5941 - accuracy: 0.7076\n",
      "Epoch 95/100\n",
      "3391/3391 [==============================] - 10s 3ms/step - loss: 0.5940 - accuracy: 0.7079\n",
      "Epoch 96/100\n",
      "3391/3391 [==============================] - 9s 3ms/step - loss: 0.5939 - accuracy: 0.7077\n",
      "Epoch 97/100\n",
      "3391/3391 [==============================] - 10s 3ms/step - loss: 0.5936 - accuracy: 0.7078\n",
      "Epoch 98/100\n",
      "3391/3391 [==============================] - 10s 3ms/step - loss: 0.5942 - accuracy: 0.7074\n",
      "Epoch 99/100\n",
      "3391/3391 [==============================] - 10s 3ms/step - loss: 0.5934 - accuracy: 0.7077\n",
      "Epoch 100/100\n",
      "3391/3391 [==============================] - 10s 3ms/step - loss: 0.5933 - accuracy: 0.7080\n"
     ]
    },
    {
     "data": {
      "text/plain": [
       "<keras.callbacks.History at 0x14180c0df40>"
      ]
     },
     "execution_count": 34,
     "metadata": {},
     "output_type": "execute_result"
    }
   ],
   "source": [
    "ann.fit(X_train, y_train, batch_size = 16, epochs = 100)"
   ]
  },
  {
   "cell_type": "code",
   "execution_count": 35,
   "id": "005b97b6",
   "metadata": {},
   "outputs": [
    {
     "name": "stdout",
     "output_type": "stream",
     "text": [
      "1/1 [==============================] - 0s 292ms/step\n"
     ]
    },
    {
     "data": {
      "text/plain": [
       "array([[0.13896838]], dtype=float32)"
      ]
     },
     "execution_count": 35,
     "metadata": {},
     "output_type": "execute_result"
    }
   ],
   "source": [
    "ann.predict(sc.transform([[14, 2567091, 2, 5, 1, 2010, 2012, 2013, 2, 0, 1]]))"
   ]
  },
  {
   "cell_type": "code",
   "execution_count": 48,
   "id": "078ef7c1",
   "metadata": {
    "scrolled": true
   },
   "outputs": [
    {
     "name": "stdout",
     "output_type": "stream",
     "text": [
      "Running on local URL:  http://127.0.0.1:7864\n",
      "\n",
      "To create a public link, set `share=True` in `launch()`.\n"
     ]
    },
    {
     "data": {
      "text/html": [
       "<div><iframe src=\"http://127.0.0.1:7864/\" width=\"100%\" height=\"500\" allow=\"autoplay; camera; microphone; clipboard-read; clipboard-write;\" frameborder=\"0\" allowfullscreen></iframe></div>"
      ],
      "text/plain": [
       "<IPython.core.display.HTML object>"
      ]
     },
     "metadata": {},
     "output_type": "display_data"
    },
    {
     "data": {
      "text/plain": []
     },
     "execution_count": 48,
     "metadata": {},
     "output_type": "execute_result"
    },
    {
     "name": "stdout",
     "output_type": "stream",
     "text": [
      "1/1 [==============================] - 0s 86ms/step\n"
     ]
    }
   ],
   "source": [
    "import gradio as gr\n",
    "\n",
    "def predict_(categ,total,status,country,funding_rounds,founded,first_fund,last_fund,investment_type,unique,pors):\n",
    "    return((ann.predict(sc.transform([[categ,total,status,country,funding_rounds,founded,first_fund,last_fund,investment_type,unique,pors]])))*100)\n",
    "\n",
    "categ_input=gr.Number(label='Enter category')\n",
    "total_input=gr.Number(label='Enter total funding')\n",
    "status_input=gr.Number(label='Enter status')\n",
    "country_input=gr.Number(label='Enter country')\n",
    "funding_rounds_input=gr.Number(label='Enter funding_rounds')\n",
    "founded_input=gr.Number(label='Enter founded year')\n",
    "first_fund_input=gr.Number(label='Enter first_funded year')\n",
    "last_fund_input=gr.Number(label='Enter last_funded year')\n",
    "inv_type_input=gr.Number(label='Enter investment_type')\n",
    "unique_input=gr.Number(label='Enter unique or Not')\n",
    "pors_input=gr.Number(label='Enter P/S')\n",
    "\n",
    "output=gr.Number()\n",
    "\n",
    "iface = gr.Interface(fn=predict_, inputs=[categ_input,\n",
    "total_input,\n",
    "status_input,\n",
    "country_input,\n",
    "funding_rounds_input,\n",
    "founded_input,\n",
    "first_fund_input,\n",
    "last_fund_input,\n",
    "inv_type_input,\n",
    "unique_input,\n",
    "pors_input], outputs=output)\n",
    "\n",
    "iface.launch()"
   ]
  },
  {
   "cell_type": "code",
   "execution_count": null,
   "id": "0ec642bf",
   "metadata": {},
   "outputs": [],
   "source": []
  }
 ],
 "metadata": {
  "kernelspec": {
   "display_name": "Python 3 (ipykernel)",
   "language": "python",
   "name": "python3"
  },
  "language_info": {
   "codemirror_mode": {
    "name": "ipython",
    "version": 3
   },
   "file_extension": ".py",
   "mimetype": "text/x-python",
   "name": "python",
   "nbconvert_exporter": "python",
   "pygments_lexer": "ipython3",
   "version": "3.9.12"
  }
 },
 "nbformat": 4,
 "nbformat_minor": 5
}
